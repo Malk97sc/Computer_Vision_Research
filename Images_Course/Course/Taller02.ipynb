{
 "cells": [
  {
   "cell_type": "markdown",
   "metadata": {
    "colab_type": "text",
    "id": "Q3kZ_LdRhFZk"
   },
   "source": [
    "![alt text][logos]\n",
    "\n",
    "#**Análisis Automático de Imágenes Digitales**\n",
    "\n",
    "---\n",
    "\n",
    "\n",
    "<b>Facultad de Ingeniería - Ingeniería de Sistemas</b><br>\n",
    "Universidad del Magdalena<br>\n",
    "Grupo de Investigación y Desarrollo en Sistemas y Computación</b>\n",
    "\n",
    "\n",
    "---\n",
    "\n",
    "\n",
    "\n",
    "\n",
    "\n",
    "[logos]: https://github.com/sanchezgt/AnalisisImagenes/raw/master/rsc/logos.png\n",
    "\n",
    "\n",
    "\n"
   ]
  },
  {
   "cell_type": "code",
   "execution_count": 0,
   "metadata": {
    "colab": {
     "base_uri": "https://localhost:8080/",
     "height": 34
    },
    "colab_type": "code",
    "executionInfo": {
     "elapsed": 1104,
     "status": "ok",
     "timestamp": 1589215783268,
     "user": {
      "displayName": "Sergio Robles",
      "photoUrl": "",
      "userId": "12493688179640746036"
     },
     "user_tz": 300
    },
    "id": "_z6gdOskgpq2",
    "outputId": "a8c36fac-495e-4c76-d33f-aa3ff1196587"
   },
   "outputs": [
    {
     "name": "stdout",
     "output_type": "stream",
     "text": [
      "Drive already mounted at /content/drive; to attempt to forcibly remount, call drive.mount(\"/content/drive\", force_remount=True).\n"
     ]
    }
   ],
   "source": [
    "import os\n",
    "from google.colab import drive\n",
    "drive.mount('/content/drive')\n",
    "os.chdir('/content/drive/My Drive/Talleres/Sesion01')"
   ]
  },
  {
   "cell_type": "markdown",
   "metadata": {
    "colab_type": "text",
    "id": "3EKhx4oc92VO"
   },
   "source": [
    "# **Taller02-Sesión1 - Práctico**"
   ]
  },
  {
   "cell_type": "markdown",
   "metadata": {
    "colab_type": "text",
    "id": "wRG4CIYYgowB"
   },
   "source": [
    "## Paquetes Necesarios"
   ]
  },
  {
   "cell_type": "code",
   "execution_count": 0,
   "metadata": {
    "colab": {},
    "colab_type": "code",
    "id": "xhZSGP9ngowD"
   },
   "outputs": [],
   "source": [
    "%matplotlib inline\n",
    "import cv2\n",
    "import numpy as np\n",
    "from matplotlib import pyplot as plt\n",
    "from scipy import ndimage"
   ]
  },
  {
   "cell_type": "markdown",
   "metadata": {
    "colab_type": "text",
    "id": "spqVYQ3agowH"
   },
   "source": [
    "## Taller"
   ]
  },
  {
   "cell_type": "markdown",
   "metadata": {
    "colab_type": "text",
    "id": "i_ZfZYtkgowI"
   },
   "source": [
    "De la siguiente imagen realizar las actividades propuestas\n"
   ]
  },
  {
   "cell_type": "code",
   "execution_count": 0,
   "metadata": {
    "colab": {},
    "colab_type": "code",
    "id": "QczwH1n0gowJ"
   },
   "outputs": [],
   "source": [
    "img = cv2.imread('images/test2.jpg', cv2.IMREAD_GRAYSCALE)"
   ]
  },
  {
   "cell_type": "code",
   "execution_count": 0,
   "metadata": {
    "colab": {
     "base_uri": "https://localhost:8080/",
     "height": 269
    },
    "colab_type": "code",
    "executionInfo": {
     "elapsed": 898,
     "status": "ok",
     "timestamp": 1589216728752,
     "user": {
      "displayName": "Sergio Robles",
      "photoUrl": "",
      "userId": "12493688179640746036"
     },
     "user_tz": 300
    },
    "id": "pepoMDvVMnrs",
    "outputId": "c5c05fa4-6ef8-4ed2-95b7-217811a06ad6"
   },
   "outputs": [
    {
     "data": {
      "image/png": "[encoded data removed]",
      "text/plain": [
       "<Figure size 432x288 with 1 Axes>"
      ]
     },
     "metadata": {
      "needs_background": "light",
      "tags": []
     },
     "output_type": "display_data"
    }
   ],
   "source": [
    "plt.imshow(img, cmap='gray')\n",
    "plt.show()"
   ]
  },
  {
   "cell_type": "markdown",
   "metadata": {
    "colab_type": "text",
    "id": "ct95sHzvfHPL"
   },
   "source": [
    "###Punto 1\n",
    "Aplicarle un filtro de suavizado a la imagen dada utilizando convolución  \n",
    "\n",
    "*Nota:* Utilice la función CONVOLVE del framework SCIPY  \n",
    "https://docs.scipy.org/doc/scipy-0.14.0/reference/generated/scipy.ndimage.filters.convolve.html"
   ]
  },
  {
   "cell_type": "code",
   "execution_count": 0,
   "metadata": {
    "colab": {
     "base_uri": "https://localhost:8080/",
     "height": 269
    },
    "colab_type": "code",
    "executionInfo": {
     "elapsed": 663,
     "status": "ok",
     "timestamp": 1589216748073,
     "user": {
      "displayName": "Sergio Robles",
      "photoUrl": "",
      "userId": "12493688179640746036"
     },
     "user_tz": 300
    },
    "id": "RgtUsds0oabF",
    "outputId": "f4ac02a0-203d-4c54-e00a-341526138a7c"
   },
   "outputs": [
    {
     "data": {
      "image/png": "[encoded data removed]",
      "text/plain": [
       "<Figure size 432x288 with 1 Axes>"
      ]
     },
     "metadata": {
      "needs_background": "light",
      "tags": []
     },
     "output_type": "display_data"
    }
   ],
   "source": [
    "# Solución Deseada"
   ]
  },
  {
   "cell_type": "markdown",
   "metadata": {
    "colab_type": "text",
    "id": "NxmugSUuNAyI"
   },
   "source": [
    "###Punto 2\n",
    "Aplicarle un filtro de bordes **(kernel = 3x3)** a la imagen dada utilizando convolución  "
   ]
  },
  {
   "cell_type": "code",
   "execution_count": 0,
   "metadata": {
    "colab": {
     "base_uri": "https://localhost:8080/",
     "height": 269
    },
    "colab_type": "code",
    "executionInfo": {
     "elapsed": 889,
     "status": "ok",
     "timestamp": 1589216779267,
     "user": {
      "displayName": "Sergio Robles",
      "photoUrl": "",
      "userId": "12493688179640746036"
     },
     "user_tz": 300
    },
    "id": "y8EzHHgjanK1",
    "outputId": "6ee90847-ead7-4663-9940-d121edfb26f5"
   },
   "outputs": [
    {
     "data": {
      "image/png": "[encoded data removed]",
      "text/plain": [
       "<Figure size 432x288 with 1 Axes>"
      ]
     },
     "metadata": {
      "needs_background": "light",
      "tags": []
     },
     "output_type": "display_data"
    }
   ],
   "source": [
    "# Solución Deseada"
   ]
  },
  {
   "cell_type": "markdown",
   "metadata": {
    "colab_type": "text",
    "id": "XUyUWXu_tOg-"
   },
   "source": [
    "###Punto 3\n",
    "Aplicarle un filtro de bordes **(kernel = 5x5)** a la imagen dada utilizando convolución  \n"
   ]
  },
  {
   "cell_type": "code",
   "execution_count": 0,
   "metadata": {
    "colab": {
     "base_uri": "https://localhost:8080/",
     "height": 269
    },
    "colab_type": "code",
    "executionInfo": {
     "elapsed": 1391,
     "status": "ok",
     "timestamp": 1589216936286,
     "user": {
      "displayName": "Sergio Robles",
      "photoUrl": "",
      "userId": "12493688179640746036"
     },
     "user_tz": 300
    },
    "id": "UgCB4bNrtfAJ",
    "outputId": "ae2df145-aea6-4c64-8d43-307cd0a6b4ff"
   },
   "outputs": [
    {
     "data": {
      "image/png": "[encoded data removed]",
      "text/plain": [
       "<Figure size 432x288 with 1 Axes>"
      ]
     },
     "metadata": {
      "needs_background": "light",
      "tags": []
     },
     "output_type": "display_data"
    }
   ],
   "source": [
    "# Solución Deseada"
   ]
  }
 ],
 "metadata": {
  "colab": {
   "collapsed_sections": [],
   "name": "Taller02.ipynb",
   "provenance": [],
   "toc_visible": true
  },
  "kernelspec": {
   "display_name": "Python 3",
   "language": "python",
   "name": "python3"
  },
  "language_info": {
   "codemirror_mode": {
    "name": "ipython",
    "version": 3
   },
   "file_extension": ".py",
   "mimetype": "text/x-python",
   "name": "python",
   "nbconvert_exporter": "python",
   "pygments_lexer": "ipython3",
   "version": "3.7.4"
  }
 },
 "nbformat": 4,
 "nbformat_minor": 0
}
