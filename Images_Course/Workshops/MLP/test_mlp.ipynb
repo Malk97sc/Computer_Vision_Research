{
 "cells": [
  {
   "cell_type": "code",
   "execution_count": 1,
   "id": "d5537c61",
   "metadata": {},
   "outputs": [],
   "source": [
    "import numpy as np\n",
    "\n",
    "from mlp import MLP"
   ]
  },
  {
   "cell_type": "code",
   "execution_count": 2,
   "id": "fee7c237",
   "metadata": {},
   "outputs": [],
   "source": [
    "def get_dataset(name):\n",
    "    X = np.array([\n",
    "        [0, 0],\n",
    "        [0, 1],\n",
    "        [1, 0],\n",
    "        [1, 1]\n",
    "    ])\n",
    "\n",
    "    if name == 'AND':\n",
    "        y = np.array([[0], [0], [0], [1]])\n",
    "    elif name == 'OR':\n",
    "        y = np.array([[0], [1], [1], [1]])\n",
    "    elif name == 'XOR':\n",
    "        y = np.array([[0], [1], [1], [0]])\n",
    "    elif name == 'XAND' or name == 'XNOR':\n",
    "        y = np.array([[1], [0], [0], [1]])\n",
    "    else:\n",
    "        raise ValueError(\"Unrecognized function\")\n",
    "    return X, y"
   ]
  },
  {
   "cell_type": "code",
   "execution_count": 3,
   "id": "5859fc81",
   "metadata": {},
   "outputs": [
    {
     "data": {
      "text/plain": [
       "array([[1],\n",
       "       [0],\n",
       "       [0],\n",
       "       [1]])"
      ]
     },
     "execution_count": 3,
     "metadata": {},
     "output_type": "execute_result"
    }
   ],
   "source": [
    "logic_fn = {\n",
    "    1: \"AND\",\n",
    "    2: \"OR\",\n",
    "    3: \"XOR\",\n",
    "    4: \"XAND\",\n",
    "}\n",
    "\n",
    "name = logic_fn[4]\n",
    "\n",
    "X, y = get_dataset(name)\n",
    "y"
   ]
  },
  {
   "cell_type": "code",
   "execution_count": 4,
   "id": "b94e475e",
   "metadata": {},
   "outputs": [
    {
     "name": "stdout",
     "output_type": "stream",
     "text": [
      "Epoch 0, Loss: 0.2895\n",
      "Epoch 500, Loss: 0.1999\n",
      "Epoch 1000, Loss: 0.1204\n",
      "Epoch 1500, Loss: 0.0542\n",
      "Epoch 2000, Loss: 0.0258\n",
      "Epoch 2500, Loss: 0.0148\n",
      "Epoch 3000, Loss: 0.0097\n",
      "Epoch 3500, Loss: 0.0070\n",
      "Epoch 4000, Loss: 0.0053\n",
      "Epoch 4500, Loss: 0.0043\n"
     ]
    }
   ],
   "source": [
    "model = MLP(data=X.shape[1], hidden_dim=20, output=1, lr=0.1)\n",
    "model.train(X, y, epochs=5000, show_err=True, each=500)"
   ]
  },
  {
   "cell_type": "code",
   "execution_count": 10,
   "id": "10e31703",
   "metadata": {},
   "outputs": [
    {
     "name": "stdout",
     "output_type": "stream",
     "text": [
      "Results for XAND:\n",
      "[0 0]|1\n",
      "[0 1]|0\n",
      "[1 0]|0\n",
      "[1 1]|1\n"
     ]
    }
   ],
   "source": [
    "print(f\"Results for {name}:\")\n",
    "for xi in X:\n",
    "    pred = model.predict(np.array([xi]))\n",
    "    print(f\"{xi}|{int(pred.item())}\")"
   ]
  },
  {
   "cell_type": "code",
   "execution_count": null,
   "id": "31d9a859",
   "metadata": {},
   "outputs": [],
   "source": []
  }
 ],
 "metadata": {
  "kernelspec": {
   "display_name": "imagesVenv (3.12.3)",
   "language": "python",
   "name": "python3"
  },
  "language_info": {
   "codemirror_mode": {
    "name": "ipython",
    "version": 3
   },
   "file_extension": ".py",
   "mimetype": "text/x-python",
   "name": "python",
   "nbconvert_exporter": "python",
   "pygments_lexer": "ipython3",
   "version": "3.12.3"
  }
 },
 "nbformat": 4,
 "nbformat_minor": 5
}
